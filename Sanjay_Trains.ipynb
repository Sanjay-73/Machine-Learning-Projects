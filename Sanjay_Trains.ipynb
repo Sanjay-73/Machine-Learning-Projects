{
  "cells": [
    {
      "cell_type": "markdown",
      "source": [],
      "metadata": {
        "id": "0zCpuC31VBwh"
      },
      "id": "0zCpuC31VBwh"
    },
    {
      "cell_type": "code",
      "source": [
        "# Standard Imports\n",
        "import pandas as pd\n",
        "import seaborn as sns\n",
        "import numpy as np\n",
        "import matplotlib.pyplot as plt\n",
        "import pickle\n",
        "\n",
        "# Transformers\n",
        "from sklearn.preprocessing import LabelEncoder, OneHotEncoder, StandardScaler, MinMaxScaler\n",
        "\n",
        "# Modeling Evaluation\n",
        "from sklearn.model_selection import train_test_split, cross_val_score, KFold, GridSearchCV, StratifiedShuffleSplit\n",
        "from sklearn.metrics import accuracy_score, precision_score, recall_score,f1_score, confusion_matrix, classification_report\n",
        "from IPython.display import display, Markdown\n",
        "\n",
        "# Pipelines\n",
        "from sklearn.pipeline import Pipeline, FeatureUnion\n",
        "from sklearn.base import BaseEstimator, TransformerMixin\n",
        "from sklearn.compose import ColumnTransformer\n",
        "\n",
        "# Machine Learning\n",
        "from sklearn.tree import DecisionTreeClassifier\n",
        "from sklearn.ensemble import RandomForestClassifier\n",
        "from sklearn.model_selection import KFold\n",
        "from sklearn.neighbors import KNeighborsClassifier\n",
        "from sklearn.naive_bayes import GaussianNB"
      ],
      "outputs": [],
      "execution_count": null,
      "metadata": {
        "id": "b9c8a1bb"
      },
      "id": "b9c8a1bb"
    },
    {
      "cell_type": "code",
      "source": [
        "df = pd.read_csv('train.csv')\n",
        "\n",
        "df.head()"
      ],
      "outputs": [
        {
          "output_type": "execute_result",
          "execution_count": 2,
          "data": {
            "text/html": "<div>\n<style scoped>\n    .dataframe tbody tr th:only-of-type {\n        vertical-align: middle;\n    }\n\n    .dataframe tbody tr th {\n        vertical-align: top;\n    }\n\n    .dataframe thead th {\n        text-align: right;\n    }\n</style>\n<table border=\"1\" class=\"dataframe\">\n  <thead>\n    <tr style=\"text-align: right;\">\n      <th></th>\n      <th>PassengerId</th>\n      <th>Survived</th>\n      <th>Pclass</th>\n      <th>Name</th>\n      <th>Sex</th>\n      <th>Age</th>\n      <th>SibSp</th>\n      <th>Parch</th>\n      <th>Ticket</th>\n      <th>Fare</th>\n      <th>Cabin</th>\n      <th>Embarked</th>\n    </tr>\n  </thead>\n  <tbody>\n    <tr>\n      <th>0</th>\n      <td>1</td>\n      <td>0</td>\n      <td>3</td>\n      <td>Braund, Mr. Owen Harris</td>\n      <td>male</td>\n      <td>22.0</td>\n      <td>1</td>\n      <td>0</td>\n      <td>A/5 21171</td>\n      <td>7.2500</td>\n      <td>NaN</td>\n      <td>S</td>\n    </tr>\n    <tr>\n      <th>1</th>\n      <td>2</td>\n      <td>1</td>\n      <td>1</td>\n      <td>Cumings, Mrs. John Bradley (Florence Briggs Th...</td>\n      <td>female</td>\n      <td>38.0</td>\n      <td>1</td>\n      <td>0</td>\n      <td>PC 17599</td>\n      <td>71.2833</td>\n      <td>C85</td>\n      <td>C</td>\n    </tr>\n    <tr>\n      <th>2</th>\n      <td>3</td>\n      <td>1</td>\n      <td>3</td>\n      <td>Heikkinen, Miss. Laina</td>\n      <td>female</td>\n      <td>26.0</td>\n      <td>0</td>\n      <td>0</td>\n      <td>STON/O2. 3101282</td>\n      <td>7.9250</td>\n      <td>NaN</td>\n      <td>S</td>\n    </tr>\n    <tr>\n      <th>3</th>\n      <td>4</td>\n      <td>1</td>\n      <td>1</td>\n      <td>Futrelle, Mrs. Jacques Heath (Lily May Peel)</td>\n      <td>female</td>\n      <td>35.0</td>\n      <td>1</td>\n      <td>0</td>\n      <td>113803</td>\n      <td>53.1000</td>\n      <td>C123</td>\n      <td>S</td>\n    </tr>\n    <tr>\n      <th>4</th>\n      <td>5</td>\n      <td>0</td>\n      <td>3</td>\n      <td>Allen, Mr. William Henry</td>\n      <td>male</td>\n      <td>35.0</td>\n      <td>0</td>\n      <td>0</td>\n      <td>373450</td>\n      <td>8.0500</td>\n      <td>NaN</td>\n      <td>S</td>\n    </tr>\n  </tbody>\n</table>\n</div>",
            "text/plain": "   PassengerId  Survived  Pclass  \\\n0            1         0       3   \n1            2         1       1   \n2            3         1       3   \n3            4         1       1   \n4            5         0       3   \n\n                                                Name     Sex   Age  SibSp  \\\n0                            Braund, Mr. Owen Harris    male  22.0      1   \n1  Cumings, Mrs. John Bradley (Florence Briggs Th...  female  38.0      1   \n2                             Heikkinen, Miss. Laina  female  26.0      0   \n3       Futrelle, Mrs. Jacques Heath (Lily May Peel)  female  35.0      1   \n4                           Allen, Mr. William Henry    male  35.0      0   \n\n   Parch            Ticket     Fare Cabin Embarked  \n0      0         A/5 21171   7.2500   NaN        S  \n1      0          PC 17599  71.2833   C85        C  \n2      0  STON/O2. 3101282   7.9250   NaN        S  \n3      0            113803  53.1000  C123        S  \n4      0            373450   8.0500   NaN        S  "
          },
          "metadata": {}
        }
      ],
      "execution_count": null,
      "metadata": {
        "id": "28276320",
        "outputId": "be92c468-bee5-4a2d-c94e-9f0a52e346b0"
      },
      "id": "28276320"
    },
    {
      "cell_type": "code",
      "source": [
        "df.info()"
      ],
      "outputs": [
        {
          "output_type": "stream",
          "name": "stdout",
          "text": "<class 'pandas.core.frame.DataFrame'>\nRangeIndex: 891 entries, 0 to 890\nData columns (total 12 columns):\n #   Column       Non-Null Count  Dtype  \n---  ------       --------------  -----  \n 0   PassengerId  891 non-null    int64  \n 1   Survived     891 non-null    int64  \n 2   Pclass       891 non-null    int64  \n 3   Name         891 non-null    object \n 4   Sex          891 non-null    object \n 5   Age          714 non-null    float64\n 6   SibSp        891 non-null    int64  \n 7   Parch        891 non-null    int64  \n 8   Ticket       891 non-null    object \n 9   Fare         891 non-null    float64\n 10  Cabin        204 non-null    object \n 11  Embarked     889 non-null    object \ndtypes: float64(2), int64(5), object(5)\nmemory usage: 83.7+ KB\n"
        }
      ],
      "execution_count": null,
      "metadata": {
        "id": "dca89f4d",
        "outputId": "88c38ba9-9d3e-4faf-d039-f07c69b44032"
      },
      "id": "dca89f4d"
    },
    {
      "cell_type": "code",
      "source": [
        "cols = ['Name', 'Ticket', 'Cabin']\n",
        "\n",
        "df = df.drop(cols, axis=1)"
      ],
      "outputs": [],
      "execution_count": null,
      "metadata": {
        "id": "72b01065"
      },
      "id": "72b01065"
    },
    {
      "cell_type": "code",
      "source": [
        "df.info()"
      ],
      "outputs": [
        {
          "output_type": "stream",
          "name": "stdout",
          "text": "<class 'pandas.core.frame.DataFrame'>\nRangeIndex: 891 entries, 0 to 890\nData columns (total 9 columns):\n #   Column       Non-Null Count  Dtype  \n---  ------       --------------  -----  \n 0   PassengerId  891 non-null    int64  \n 1   Survived     891 non-null    int64  \n 2   Pclass       891 non-null    int64  \n 3   Sex          891 non-null    object \n 4   Age          714 non-null    float64\n 5   SibSp        891 non-null    int64  \n 6   Parch        891 non-null    int64  \n 7   Fare         891 non-null    float64\n 8   Embarked     889 non-null    object \ndtypes: float64(2), int64(5), object(2)\nmemory usage: 62.8+ KB\n"
        }
      ],
      "execution_count": null,
      "metadata": {
        "id": "21571bc9",
        "outputId": "65805411-dca6-46c9-a0a0-de8c9800e6fa"
      },
      "id": "21571bc9"
    },
    {
      "cell_type": "code",
      "source": [
        "# Dealing with rows having missing values\n",
        "\n",
        "df['Age'] = df['Age'].interpolate()"
      ],
      "outputs": [],
      "execution_count": null,
      "metadata": {
        "id": "2f57c4dc"
      },
      "id": "2f57c4dc"
    },
    {
      "cell_type": "code",
      "source": [
        "columns = ['Pclass', 'Sex', 'SibSp', 'Parch', 'Fare', 'Embarked']\n",
        "\n",
        "numerical = ['Age', 'Fare']\n",
        "\n",
        "categorical = [\"Pclass\", \"Sex\",\n",
        "\n",
        "                       \"SibSp\", \"Parch\", \"Embarked\"]\n",
        "\n",
        "\n",
        "\n",
        "#Creating ss transformer to scale the continuous numerical data with StandardScaler()\n",
        "\n",
        "ss = Pipeline(steps=[('ss', StandardScaler())])\n",
        "\n",
        "\n",
        "\n",
        "#Creating ohe transformer to encode the categorical data with OneHotEncoder()\n",
        "\n",
        "ohe = Pipeline(steps=[('ohe', OneHotEncoder(handle_unknown = 'ignore', sparse = False))])\n",
        "\n",
        "\n",
        "\n",
        "#Creating preprocess column transformer to combine the ss and ohe pipelines\n",
        "\n",
        "preprocess = ColumnTransformer(\n",
        "\n",
        "                    transformers=[\n",
        "\n",
        "                        ('cont', ss, numerical),\n",
        "\n",
        "                        ('cat', ohe, categorical)\n",
        "\n",
        "                    ])"
      ],
      "outputs": [],
      "execution_count": null,
      "metadata": {
        "id": "69ca573c"
      },
      "id": "69ca573c"
    },
    {
      "cell_type": "code",
      "source": [
        "def evaluation(y, y_hat, title = 'Confusion Matrix'):\n",
        "\n",
        "    cm = confusion_matrix(y, y_hat)\n",
        "\n",
        "    precision = precision_score(y, y_hat)\n",
        "\n",
        "    recall = recall_score(y, y_hat)\n",
        "\n",
        "    accuracy = accuracy_score(y,y_hat)\n",
        "\n",
        "    f1 = f1_score(y,y_hat)\n",
        "\n",
        "    print('Recall: ', recall)\n",
        "\n",
        "    print('Accuracy: ', accuracy)\n",
        "\n",
        "    print('Precision: ', precision)\n",
        "\n",
        "    print('F1: ', f1)\n",
        "\n",
        "    sns.heatmap(cm,  cmap= 'PuBu', annot=True, fmt='g', annot_kws=    {'size':20})\n",
        "\n",
        "    plt.xlabel('predicted', fontsize=18)\n",
        "\n",
        "    plt.ylabel('actual', fontsize=18)\n",
        "\n",
        "    plt.title(title, fontsize=18)\n",
        "\n",
        "    \n",
        "\n",
        "    plt.show();"
      ],
      "outputs": [],
      "execution_count": null,
      "metadata": {
        "id": "f71af6f4"
      },
      "id": "f71af6f4"
    },
    {
      "cell_type": "code",
      "source": [
        "X = df.drop(['Survived'], axis=1)\n",
        "\n",
        "y = df.Survived\n",
        "\n",
        "y = LabelEncoder().fit_transform(y)\n",
        "\n",
        "X_train, X_test, y_train, y_test = train_test_split(X, y, random_state=42)"
      ],
      "outputs": [],
      "execution_count": null,
      "metadata": {
        "id": "74cb2d25"
      },
      "id": "74cb2d25"
    },
    {
      "cell_type": "code",
      "source": [
        "def cross_validate(classifier, cv):\n",
        "\n",
        "    pipeline = Pipeline(steps=[\n",
        "\n",
        "        ('preprocess', preprocess),\n",
        "\n",
        "        ('classifier', classifier)\n",
        "\n",
        "    ])\n",
        "\n",
        "    train_acc = []\n",
        "\n",
        "    test_acc = []\n",
        "\n",
        "    for train_ind, val_ind in cv.split(X_train, y_train):\n",
        "\n",
        "        X_t, y_t = X_train.iloc[train_ind], y_train[train_ind]\n",
        "\n",
        "        pipeline.fit(X_t, y_t)\n",
        "\n",
        "        y_hat_t = pipeline.predict(X_t)\n",
        "\n",
        "        train_acc.append(accuracy_score(y_t, y_hat_t))\n",
        "\n",
        "        X_val, y_val = X_train.iloc[val_ind], y_train[val_ind]\n",
        "\n",
        "        y_hat_val = pipeline.predict(X_val)\n",
        "\n",
        "        test_acc.append(accuracy_score(y_val, y_hat_val))\n",
        "\n",
        "    print(evaluation(y_val, y_hat_val))\n",
        "\n",
        "    print('Training Accuracy: {}'.format(np.mean(train_acc)))\n",
        "\n",
        "    print('\\n')\n",
        "\n",
        "    print('Validation Accuracy: {}'.format(np.mean(test_acc)))\n",
        "\n",
        "    print('\\n')"
      ],
      "outputs": [],
      "execution_count": null,
      "metadata": {
        "id": "b12e01c0"
      },
      "id": "b12e01c0"
    },
    {
      "cell_type": "code",
      "source": [
        "model = GaussianNB()\n",
        "cross_validate(model, StratifiedShuffleSplit(n_splits = 5, test_size = 0.2, random_state = 42))"
      ],
      "outputs": [
        {
          "output_type": "stream",
          "name": "stdout",
          "text": "Recall:  1.0\nAccuracy:  0.41044776119402987\nPrecision:  0.3923076923076923\nF1:  0.56353591160221\n"
        },
        {
          "output_type": "display_data",
          "data": {
            "image/png": "[encoded data removed]",
            "text/plain": "<Figure size 432x288 with 2 Axes>"
          },
          "metadata": {
            "needs_background": "light"
          }
        },
        {
          "output_type": "stream",
          "name": "stdout",
          "text": "None\nTraining Accuracy: 0.4172284644194756\n\n\nValidation Accuracy: 0.4014925373134329\n\n\n"
        }
      ],
      "execution_count": null,
      "metadata": {
        "scrolled": false,
        "id": "9a0655ad",
        "outputId": "705337a9-ac9a-4dfd-d5a8-b8511393b8f0"
      },
      "id": "9a0655ad"
    },
    {
      "cell_type": "code",
      "source": [
        "pipeline = Pipeline(steps=[\n",
        "\n",
        "        ('preprocess', preprocess),\n",
        "\n",
        "        ('classifier', model)\n",
        "\n",
        "    ])\n",
        "evaluation(y_test, pipeline.predict(X_test), title = 'Confusion Matrix')"
      ],
      "outputs": [
        {
          "output_type": "stream",
          "name": "stdout",
          "text": "Recall:  0.9887640449438202\nAccuracy:  0.40358744394618834\nPrecision:  0.4\nF1:  0.56957928802589\n"
        },
        {
          "output_type": "display_data",
          "data": {
            "image/png": "[encoded data removed]",
            "text/plain": "<Figure size 432x288 with 2 Axes>"
          },
          "metadata": {
            "needs_background": "light"
          }
        }
      ],
      "execution_count": null,
      "metadata": {
        "id": "069510ea",
        "outputId": "4ebc1ec5-3f8e-487d-c8d3-2b7251f13b8b"
      },
      "id": "069510ea"
    },
    {
      "cell_type": "code",
      "source": [],
      "outputs": [],
      "execution_count": null,
      "metadata": {
        "id": "316017ff"
      },
      "id": "316017ff"
    }
  ],
  "metadata": {
    "kernelspec": {
      "display_name": "Python 3 (ipykernel)",
      "language": "python",
      "name": "python3"
    },
    "language_info": {
      "codemirror_mode": {
        "name": "ipython",
        "version": 3
      },
      "file_extension": ".py",
      "mimetype": "text/x-python",
      "name": "python",
      "nbconvert_exporter": "python",
      "pygments_lexer": "ipython3",
      "version": "3.8.8"
    },
    "nteract": {
      "version": "nteract-front-end@1.0.0"
    },
    "colab": {
      "provenance": []
    }
  },
  "nbformat": 4,
  "nbformat_minor": 5
}